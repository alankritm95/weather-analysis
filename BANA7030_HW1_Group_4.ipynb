{
 "cells": [
  {
   "cell_type": "code",
   "execution_count": 17,
   "id": "34460fbc",
   "metadata": {},
   "outputs": [
    {
     "ename": "TypeError",
     "evalue": "unsupported operand type(s) for +: 'float' and 'list'",
     "output_type": "error",
     "traceback": [
      "\u001b[0;31m---------------------------------------------------------------------------\u001b[0m",
      "\u001b[0;31mTypeError\u001b[0m                                 Traceback (most recent call last)",
      "Input \u001b[0;32mIn [17]\u001b[0m, in \u001b[0;36m<cell line: 13>\u001b[0;34m()\u001b[0m\n\u001b[1;32m     43\u001b[0m     serv_time\u001b[38;5;241m.\u001b[39mappend(serv_100)\n\u001b[1;32m     44\u001b[0m \u001b[38;5;28;01melse\u001b[39;00m:\n\u001b[0;32m---> 45\u001b[0m     time_stayed \u001b[38;5;241m=\u001b[39m \u001b[38;5;28mmax\u001b[39m(\u001b[38;5;241m0\u001b[39m, \u001b[43mwait_time\u001b[49m\u001b[43m \u001b[49m\u001b[38;5;241;43m+\u001b[39;49m\u001b[43m \u001b[49m\u001b[43mserv_time\u001b[49m)\n\u001b[1;32m     46\u001b[0m     waiting_times\u001b[38;5;241m.\u001b[39mappend(wait_time)\n\u001b[1;32m     47\u001b[0m     time_in_system\u001b[38;5;241m.\u001b[39mappend(time_stayed)\n",
      "\u001b[0;31mTypeError\u001b[0m: unsupported operand type(s) for +: 'float' and 'list'"
     ]
    }
   ],
   "source": [
    "import numpy as np\n",
    "import random\n",
    "import pandas as pd\n",
    "\n",
    "iterations = 1000\n",
    "\n",
    "\n",
    "waiting_times = []\n",
    "time_in_system = []\n",
    "customers_left = 0\n",
    "\n",
    "\n",
    "for i in range(iterations):\n",
    "\n",
    "    arr_time = []\n",
    "    serv_time = []\n",
    "    patience_level = []\n",
    "    wait = []\n",
    "    \n",
    "    arr_time.append(0)\n",
    "    wait.append(0)\n",
    "    serv_time.append(np.random.exponential(0.5))\n",
    "    patience_level.append(np.random.uniform(0.7,0.9))\n",
    "    \n",
    "    # For 100 customers\n",
    "    for j in range(1,100):  \n",
    "        time = np.random.poisson(1)  \n",
    "        arr_time.append(time)\n",
    "        serv_100 = np.random.exponential(0.5)  \n",
    "        patience_100 = np.random.uniform(0.7, 0.9) \n",
    "        patience_level.append(patience_100)\n",
    "        \n",
    "        wait_time_100 = max(wait[j-1] + serv_time[j-1] - time,0)\n",
    "        \n",
    "        if j == 99:\n",
    "            if wait_time > patience_100:\n",
    "                customers_left += 1\n",
    "                wait_time = patience_100\n",
    "                time_stayed = max(0, wait_time)\n",
    "                waiting_times.append(wait_time)\n",
    "                time_in_system.append(time_stayed)\n",
    "                serv_100 = 0\n",
    "                serv_time.append(serv_100)\n",
    "            else:\n",
    "                time_stayed = max(0, wait_time + serv_time)\n",
    "                waiting_times.append(wait_time)\n",
    "                time_in_system.append(time_stayed)\n",
    "        \n",
    "        if wait_time > patience:\n",
    "            wait_time = patience\n",
    "            serv_100 = 0\n",
    "            \n",
    "        serv_time.append(patience_100)\n",
    "        wait.append(wait_time)\n",
    "\n",
    "\n",
    "# Calculating the values\n",
    "probability_100th_customer_served = 1 - (customers_left / iterations)\n",
    "average_waiting_time_100th = np.mean(waiting_times)\n",
    "average_time_stayed_100th = np.mean(time_in_system)\n",
    "\n",
    "# Print the results\n",
    "print(f\"1. Probability that the 100th customer is served: {round(probability_100th_customer_served,2)}\")\n",
    "print(f\"2. The 100th customer’s average waiting time: {round(average_waiting_time_100th,2)} minutes\")\n",
    "print(f\"3. The 100th customer’s average time spent in the system: {round(average_time_stayed_100th,2)} minutes\")"
   ]
  },
  {
   "cell_type": "code",
   "execution_count": null,
   "id": "f90bd68c",
   "metadata": {},
   "outputs": [],
   "source": []
  },
  {
   "cell_type": "code",
   "execution_count": null,
   "id": "b0cae2a3",
   "metadata": {},
   "outputs": [],
   "source": []
  }
 ],
 "metadata": {
  "kernelspec": {
   "display_name": "Python 3 (ipykernel)",
   "language": "python",
   "name": "python3"
  },
  "language_info": {
   "codemirror_mode": {
    "name": "ipython",
    "version": 3
   },
   "file_extension": ".py",
   "mimetype": "text/x-python",
   "name": "python",
   "nbconvert_exporter": "python",
   "pygments_lexer": "ipython3",
   "version": "3.9.12"
  }
 },
 "nbformat": 4,
 "nbformat_minor": 5
}
